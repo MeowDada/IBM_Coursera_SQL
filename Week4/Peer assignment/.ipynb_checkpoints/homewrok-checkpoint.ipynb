{
 "cells": [
  {
   "cell_type": "code",
   "execution_count": 1,
   "metadata": {},
   "outputs": [
    {
     "name": "stdout",
     "output_type": "stream",
     "text": [
      "Connected!\n"
     ]
    }
   ],
   "source": [
    "import ibm_db\n",
    "\n",
    "dsn_driver = \"IBM DB2 ODBC DRIVER\"\n",
    "dsn_database = \"BLUDB\"\n",
    "dsn_hostname = \"dashdb-entry-yp-dal09-08.services.dal.bluemix.net\"\n",
    "dsn_port = \"50000\"\n",
    "dsn_protocol = \"TCP_IP\"\n",
    "dsn_uid = \"*******\"   #user_id\n",
    "dsn_pwd = \"*********\" #user_password\n",
    "\n",
    "dsn = (\n",
    "    \"DRIVER={{IBM DB2 ODBC DRIVER}};\"\n",
    "    \"DATABASE={0};\"\n",
    "    \"HOSTNAME={1};\"\n",
    "    \"PORT={2};\"\n",
    "    \"PROTOCOL=TCPIP;\"\n",
    "    \"UID={3};\"\n",
    "    \"PWD={4};\"\n",
    ").format(dsn_database, dsn_hostname, dsn_port, dsn_uid, dsn_pwd)\n",
    "\n",
    "try:\n",
    "    conn = ibm_db.connect(dsn, \"\", \"\")\n",
    "    print(\"Connected!\")\n",
    "except:\n",
    "    print(\"Unable to connect to the database\")"
   ]
  },
  {
   "cell_type": "markdown",
   "metadata": {},
   "source": [
    "# Problem 1\n",
    "Find the total number of crimes recorded in the crime table."
   ]
  },
  {
   "cell_type": "code",
   "execution_count": 2,
   "metadata": {},
   "outputs": [
    {
     "data": {
      "text/plain": [
       "{'CRIME_COUNT': '533'}"
      ]
     },
     "execution_count": 2,
     "metadata": {},
     "output_type": "execute_result"
    }
   ],
   "source": [
    "sql_query = 'select count(*) as CRIME_COUNT from CRIME_DATA'\n",
    "\n",
    "prob_1 = ibm_db.exec_immediate(conn, sql_query)\n",
    "\n",
    "ibm_db.fetch_assoc(prob_1)"
   ]
  },
  {
   "cell_type": "markdown",
   "metadata": {},
   "source": [
    "# Problem 2\n",
    "Retrieve first 10 rows from the CRIME table."
   ]
  },
  {
   "cell_type": "code",
   "execution_count": 3,
   "metadata": {},
   "outputs": [
    {
     "name": "stdout",
     "output_type": "stream",
     "text": [
      "1 {'ID': 2103277}\n",
      "2 {'ID': 2169996}\n",
      "3 {'ID': 5733472}\n",
      "4 {'ID': 10707046}\n",
      "5 {'ID': 5904817}\n",
      "6 {'ID': 7195847}\n",
      "7 {'ID': 1826250}\n",
      "8 {'ID': 3761051}\n",
      "9 {'ID': 5713696}\n",
      "10 {'ID': 1803248}\n"
     ]
    }
   ],
   "source": [
    "sql_query = 'select ID from CRIME_DATA LIMIT 10'\n",
    "\n",
    "prob_2 = ibm_db.exec_immediate(conn, sql_query)\n",
    "\n",
    "dictionary = ibm_db.fetch_assoc(prob_2)\n",
    "\n",
    "idx = 1\n",
    "\n",
    "while dictionary:\n",
    "    print(idx, dictionary)\n",
    "    idx += 1\n",
    "    dictionary = ibm_db.fetch_assoc(prob_2)"
   ]
  },
  {
   "cell_type": "markdown",
   "metadata": {},
   "source": [
    "# Problem 3\n",
    "How many crimes involve an arrest."
   ]
  },
  {
   "cell_type": "code",
   "execution_count": 4,
   "metadata": {},
   "outputs": [
    {
     "data": {
      "text/plain": [
       "{'ARREST_COUNT': '163'}"
      ]
     },
     "execution_count": 4,
     "metadata": {},
     "output_type": "execute_result"
    }
   ],
   "source": [
    "sql_query = \\\n",
    "'select count(ARREST) as \"ARREST_COUNT\" \\\n",
    "from CRIME_DATA \\\n",
    "where ARREST=TRUE'\n",
    "\n",
    "prob_3 = ibm_db.exec_immediate(conn, sql_query)\n",
    "\n",
    "ibm_db.fetch_assoc(prob_3)"
   ]
  },
  {
   "cell_type": "markdown",
   "metadata": {},
   "source": [
    "# Problem 4\n",
    "Which unique types of crimes (e.g. THEFT) have been recorded at a GAS STATION locations?"
   ]
  },
  {
   "cell_type": "code",
   "execution_count": 5,
   "metadata": {},
   "outputs": [
    {
     "name": "stdout",
     "output_type": "stream",
     "text": [
      "('CRIMINAL TRESPASS',)\n",
      "('THEFT',)\n",
      "('NARCOTICS',)\n",
      "('ROBBERY',)\n"
     ]
    }
   ],
   "source": [
    "sql_query = \\\n",
    "'select unique(PRIMARY_TYPE) \\\n",
    "from CRIME_DATA \\\n",
    "where LOCATION_DESCRIPTION=\\'GAS STATION\\''\n",
    "\n",
    "prob_4 = ibm_db.exec_immediate(conn, sql_query)\n",
    "\n",
    "dictionary = ibm_db.fetch_tuple(prob_4)\n",
    "while dictionary:\n",
    "    print(dictionary)\n",
    "    dictionary = ibm_db.fetch_tuple(prob_4)"
   ]
  },
  {
   "cell_type": "markdown",
   "metadata": {},
   "source": [
    "# Problem 5\n",
    "In the CENUS_DATA table list all community areas whose names start with the letter ‘B’."
   ]
  },
  {
   "cell_type": "code",
   "execution_count": 6,
   "metadata": {},
   "outputs": [
    {
     "name": "stdout",
     "output_type": "stream",
     "text": [
      "('Belmont Cragin',)\n",
      "('Burnside',)\n",
      "('Brighton Park',)\n",
      "('Bridgeport',)\n",
      "('Beverly',)\n"
     ]
    }
   ],
   "source": [
    "sql_query = \\\n",
    "'select COMMUNITY_AREA_NAME \\\n",
    "from CENSUS_DATA \\\n",
    "where ucase(COMMUNITY_AREA_NAME) like \\'B%\\''\n",
    "\n",
    "prob_5 = ibm_db.exec_immediate(conn, sql_query)\n",
    "\n",
    "dictionary = ibm_db.fetch_tuple(prob_5)\n",
    "while dictionary:\n",
    "    print(dictionary)\n",
    "    dictionary = ibm_db.fetch_tuple(prob_5)"
   ]
  },
  {
   "cell_type": "markdown",
   "metadata": {},
   "source": [
    "# Problem 6\n",
    "List the schools in community areas 10 to 15 that are healthy school certified."
   ]
  },
  {
   "cell_type": "code",
   "execution_count": 7,
   "metadata": {},
   "outputs": [
    {
     "name": "stdout",
     "output_type": "stream",
     "text": [
      "('Rufus M Hitch Elementary School',)\n"
     ]
    }
   ],
   "source": [
    "sql_query = \\\n",
    "'select NAME_OF_SCHOOL \\\n",
    "from PUBLIC_SCHOOLS \\\n",
    "where HEALTHY_SCHOOL_CERTIFIED=\\'Yes\\' and \\\n",
    "COMMUNITY_AREA_NUMBER between 10 and 15'\n",
    "\n",
    "prob_6 = ibm_db.exec_immediate(conn, sql_query)\n",
    "\n",
    "dictionary = ibm_db.fetch_tuple(prob_6)\n",
    "while dictionary:\n",
    "    print(dictionary)\n",
    "    dictionary = ibm_db.fetch_tuple(prob_6)"
   ]
  },
  {
   "cell_type": "markdown",
   "metadata": {},
   "source": [
    "# Problem 7\n",
    "What is the average school Safety Score?"
   ]
  },
  {
   "cell_type": "code",
   "execution_count": 8,
   "metadata": {},
   "outputs": [
    {
     "data": {
      "text/plain": [
       "{'AVG_SAFETY_SCORE': '49.504873'}"
      ]
     },
     "execution_count": 8,
     "metadata": {},
     "output_type": "execute_result"
    }
   ],
   "source": [
    "sql_query = 'select AVG(SAFETY_SCORE) as \"AVG_SAFETY_SCORE\" from PUBLIC_SCHOOLS'\n",
    "\n",
    "prob_7 = ibm_db.exec_immediate(conn, sql_query)\n",
    "\n",
    "ibm_db.fetch_assoc(prob_7)"
   ]
  },
  {
   "cell_type": "markdown",
   "metadata": {},
   "source": [
    "# Problem 8\n",
    "Find the top 5 Community Areas by average College Enrollment number of students"
   ]
  },
  {
   "cell_type": "code",
   "execution_count": 9,
   "metadata": {},
   "outputs": [
    {
     "name": "stdout",
     "output_type": "stream",
     "text": [
      "(57, '2411.500000')\n",
      "(18, '1317.000000')\n",
      "(62, '1233.333333')\n",
      "(58, '1205.875000')\n",
      "(19, '1198.833333')\n"
     ]
    }
   ],
   "source": [
    "sql_query = \\\n",
    "'select COMMUNITY_AREA_NUMBER, AVG(COLLEGE_ENROLLMENT) \\\n",
    "from PUBLIC_SCHOOLS group by COMMUNITY_AREA_NUMBER \\\n",
    "order by AVG(COLLEGE_ENROLLMENT) desc \\\n",
    "LIMIT 5'\n",
    "\n",
    "prob_8 = ibm_db.exec_immediate(conn, sql_query)\n",
    "\n",
    "dictionary = ibm_db.fetch_tuple(prob_8)\n",
    "while dictionary:\n",
    "    print(dictionary)\n",
    "    dictionary = ibm_db.fetch_tuple(prob_8)"
   ]
  },
  {
   "cell_type": "markdown",
   "metadata": {},
   "source": [
    "# Problem 9\n",
    "Use a sub-query to determine which Community Area has the least value for school Safety Score?"
   ]
  },
  {
   "cell_type": "code",
   "execution_count": 10,
   "metadata": {},
   "outputs": [
    {
     "data": {
      "text/plain": [
       "{'COMMUNITY_AREA_NUMBER': 40, 'MIN_SAFETY_SCORE': 1}"
      ]
     },
     "execution_count": 10,
     "metadata": {},
     "output_type": "execute_result"
    }
   ],
   "source": [
    "sql_query = \\\n",
    "'select COMMUNITY_AREA_NUMBER, MIN_SAFETY_SCORE \\\n",
    "from (select COMMUNITY_AREA_NUMBER, min(SAFETY_SCORE) as \"MIN_SAFETY_SCORE\" \\\n",
    "from PUBLIC_SCHOOLS group by COMMUNITY_AREA_NUMBER)\\\n",
    "order by MIN_SAFETY_SCORE LIMIT 1'\n",
    "\n",
    "prob_9 = ibm_db.exec_immediate(conn, sql_query)\n",
    "\n",
    "ibm_db.fetch_assoc(prob_9)"
   ]
  },
  {
   "cell_type": "markdown",
   "metadata": {},
   "source": [
    "# Problem 10\n",
    "Without using an explicit JOIN operator. Find the Per Capita Income of the Community Area which has a school Safety Score of 1."
   ]
  },
  {
   "cell_type": "code",
   "execution_count": 11,
   "metadata": {},
   "outputs": [
    {
     "name": "stdout",
     "output_type": "stream",
     "text": [
      "{'COMMUNITY_AREA_NUMBER': 40, 'COMMUNITY_AREA_NAME': 'WASHINGTON PARK', 'SAFETY_SCORE': 1, 'PER_CAPITA_INCOME': 13785}\n"
     ]
    }
   ],
   "source": [
    "sql_query = \\\n",
    "'select y.COMMUNITY_AREA_NUMBER, y.COMMUNITY_AREA_NAME, y.SAFETY_SCORE, x.PER_CAPITA_INCOME \\\n",
    "from CENSUS_DATA x, PUBLIC_SCHOOLS y \\\n",
    "where x.COMMUNITY_AREA_NUMBER=y.COMMUNITY_AREA_NUMBER \\\n",
    "and y.SAFETY_SCORE=1'\n",
    "\n",
    "prob_10 = ibm_db.exec_immediate(conn, sql_query)\n",
    "\n",
    "dictionary = ibm_db.fetch_assoc(prob_10)\n",
    "while dictionary:\n",
    "    print(dictionary)\n",
    "    dictionary = ibm_db.fetch_assoc(prob_10)"
   ]
  },
  {
   "cell_type": "code",
   "execution_count": 12,
   "metadata": {},
   "outputs": [
    {
     "data": {
      "text/plain": [
       "True"
      ]
     },
     "execution_count": 12,
     "metadata": {},
     "output_type": "execute_result"
    }
   ],
   "source": [
    "ibm_db.close(conn)"
   ]
  },
  {
   "cell_type": "code",
   "execution_count": null,
   "metadata": {},
   "outputs": [],
   "source": []
  }
 ],
 "metadata": {
  "kernelspec": {
   "display_name": "Python 3",
   "language": "python",
   "name": "python3"
  },
  "language_info": {
   "codemirror_mode": {
    "name": "ipython",
    "version": 3
   },
   "file_extension": ".py",
   "mimetype": "text/x-python",
   "name": "python",
   "nbconvert_exporter": "python",
   "pygments_lexer": "ipython3",
   "version": "3.7.1"
  }
 },
 "nbformat": 4,
 "nbformat_minor": 2
}
